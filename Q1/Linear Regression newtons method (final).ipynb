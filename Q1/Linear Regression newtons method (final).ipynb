{
 "cells": [
  {
   "cell_type": "code",
   "execution_count": 16,
   "metadata": {
    "collapsed": true
   },
   "outputs": [],
   "source": [
    "#importing the necessary libraries\n",
    "import matplotlib.pyplot as plt\n",
    "import numpy as np\n",
    "from sklearn.metrics import mean_squared_error, r2_score, mean_absolute_error\n",
    "import pandas as pd\n",
    "import matplotlib.pyplot as plt\n",
    "from numpy.linalg import inv\n",
    "from sklearn.model_selection import train_test_split"
   ]
  },
  {
   "cell_type": "code",
   "execution_count": 17,
   "metadata": {
    "collapsed": true
   },
   "outputs": [],
   "source": [
    "data = pd.read_csv('../datasets/Data_Q1/housing.csv')"
   ]
  },
  {
   "cell_type": "code",
   "execution_count": 18,
   "metadata": {
    "collapsed": true
   },
   "outputs": [],
   "source": [
    "# coverting string data to integer category\n",
    "data['ocean_proximity'] = pd.factorize(data['ocean_proximity'])[0]"
   ]
  },
  {
   "cell_type": "code",
   "execution_count": 19,
   "metadata": {},
   "outputs": [
    {
     "data": {
      "text/plain": [
       "longitude             False\n",
       "latitude              False\n",
       "housing_median_age    False\n",
       "total_rooms           False\n",
       "total_bedrooms        False\n",
       "population            False\n",
       "households            False\n",
       "median_income         False\n",
       "median_house_value    False\n",
       "ocean_proximity       False\n",
       "dtype: bool"
      ]
     },
     "execution_count": 19,
     "metadata": {},
     "output_type": "execute_result"
    }
   ],
   "source": [
    "# doing following since data contains null/NAN value\n",
    "data = data.fillna(method='ffill')\n",
    "\n",
    "#can also use x = x[~numpy.isnan(x)] for a feature\n",
    "data.isnull().any()"
   ]
  },
  {
   "cell_type": "code",
   "execution_count": 20,
   "metadata": {
    "collapsed": true
   },
   "outputs": [],
   "source": [
    "#normalizing the data\n",
    "mean  = data.mean()\n",
    "deviation = data.std()\n",
    "data = (data - data.mean())/data.std()"
   ]
  },
  {
   "cell_type": "code",
   "execution_count": 21,
   "metadata": {
    "collapsed": true
   },
   "outputs": [],
   "source": [
    "label = data['median_house_value']\n",
    "data = data.drop([\"median_house_value\"], axis=1)\n",
    "features = np.array(data)\n",
    "label = np.array(label).reshape(-1,1)"
   ]
  },
  {
   "cell_type": "code",
   "execution_count": 22,
   "metadata": {},
   "outputs": [
    {
     "data": {
      "text/html": [
       "<div>\n",
       "<style>\n",
       "    .dataframe thead tr:only-child th {\n",
       "        text-align: right;\n",
       "    }\n",
       "\n",
       "    .dataframe thead th {\n",
       "        text-align: left;\n",
       "    }\n",
       "\n",
       "    .dataframe tbody tr th {\n",
       "        vertical-align: top;\n",
       "    }\n",
       "</style>\n",
       "<table border=\"1\" class=\"dataframe\">\n",
       "  <thead>\n",
       "    <tr style=\"text-align: right;\">\n",
       "      <th></th>\n",
       "      <th>longitude</th>\n",
       "      <th>latitude</th>\n",
       "      <th>housing_median_age</th>\n",
       "      <th>total_rooms</th>\n",
       "      <th>total_bedrooms</th>\n",
       "      <th>population</th>\n",
       "      <th>households</th>\n",
       "      <th>median_income</th>\n",
       "      <th>ocean_proximity</th>\n",
       "    </tr>\n",
       "  </thead>\n",
       "  <tbody>\n",
       "    <tr>\n",
       "      <th>count</th>\n",
       "      <td>2.064000e+04</td>\n",
       "      <td>2.064000e+04</td>\n",
       "      <td>2.064000e+04</td>\n",
       "      <td>2.064000e+04</td>\n",
       "      <td>2.064000e+04</td>\n",
       "      <td>2.064000e+04</td>\n",
       "      <td>2.064000e+04</td>\n",
       "      <td>2.064000e+04</td>\n",
       "      <td>2.064000e+04</td>\n",
       "    </tr>\n",
       "    <tr>\n",
       "      <th>mean</th>\n",
       "      <td>-1.429215e-12</td>\n",
       "      <td>-7.636681e-14</td>\n",
       "      <td>1.817399e-15</td>\n",
       "      <td>-9.590802e-17</td>\n",
       "      <td>-6.957586e-17</td>\n",
       "      <td>-2.836528e-16</td>\n",
       "      <td>7.563865e-17</td>\n",
       "      <td>-2.523810e-14</td>\n",
       "      <td>-4.021672e-14</td>\n",
       "    </tr>\n",
       "    <tr>\n",
       "      <th>std</th>\n",
       "      <td>1.000000e+00</td>\n",
       "      <td>1.000000e+00</td>\n",
       "      <td>1.000000e+00</td>\n",
       "      <td>1.000000e+00</td>\n",
       "      <td>1.000000e+00</td>\n",
       "      <td>1.000000e+00</td>\n",
       "      <td>1.000000e+00</td>\n",
       "      <td>1.000000e+00</td>\n",
       "      <td>1.000000e+00</td>\n",
       "    </tr>\n",
       "    <tr>\n",
       "      <th>min</th>\n",
       "      <td>-2.385935e+00</td>\n",
       "      <td>-1.447533e+00</td>\n",
       "      <td>-2.196127e+00</td>\n",
       "      <td>-1.207254e+00</td>\n",
       "      <td>-1.275058e+00</td>\n",
       "      <td>-1.256092e+00</td>\n",
       "      <td>-1.303952e+00</td>\n",
       "      <td>-1.774256e+00</td>\n",
       "      <td>-1.714685e+00</td>\n",
       "    </tr>\n",
       "    <tr>\n",
       "      <th>25%</th>\n",
       "      <td>-1.113182e+00</td>\n",
       "      <td>-7.967694e-01</td>\n",
       "      <td>-8.453727e-01</td>\n",
       "      <td>-5.445566e-01</td>\n",
       "      <td>-5.741400e-01</td>\n",
       "      <td>-5.637952e-01</td>\n",
       "      <td>-5.742155e-01</td>\n",
       "      <td>-6.881019e-01</td>\n",
       "      <td>-5.440348e-01</td>\n",
       "    </tr>\n",
       "    <tr>\n",
       "      <th>50%</th>\n",
       "      <td>5.389006e-01</td>\n",
       "      <td>-6.422715e-01</td>\n",
       "      <td>2.864502e-02</td>\n",
       "      <td>-2.332048e-01</td>\n",
       "      <td>-2.438770e-01</td>\n",
       "      <td>-2.291262e-01</td>\n",
       "      <td>-2.368104e-01</td>\n",
       "      <td>-1.767908e-01</td>\n",
       "      <td>-5.440348e-01</td>\n",
       "    </tr>\n",
       "    <tr>\n",
       "      <th>75%</th>\n",
       "      <td>7.784775e-01</td>\n",
       "      <td>9.729330e-01</td>\n",
       "      <td>6.642943e-01</td>\n",
       "      <td>2.347971e-01</td>\n",
       "      <td>2.598335e-01</td>\n",
       "      <td>2.644885e-01</td>\n",
       "      <td>2.758360e-01</td>\n",
       "      <td>4.592952e-01</td>\n",
       "      <td>6.266155e-01</td>\n",
       "    </tr>\n",
       "    <tr>\n",
       "      <th>max</th>\n",
       "      <td>2.625216e+00</td>\n",
       "      <td>2.957996e+00</td>\n",
       "      <td>1.856137e+00</td>\n",
       "      <td>1.681517e+01</td>\n",
       "      <td>1.403584e+01</td>\n",
       "      <td>3.024960e+01</td>\n",
       "      <td>1.460117e+01</td>\n",
       "      <td>5.858144e+00</td>\n",
       "      <td>2.967916e+00</td>\n",
       "    </tr>\n",
       "  </tbody>\n",
       "</table>\n",
       "</div>"
      ],
      "text/plain": [
       "          longitude      latitude  housing_median_age   total_rooms  \\\n",
       "count  2.064000e+04  2.064000e+04        2.064000e+04  2.064000e+04   \n",
       "mean  -1.429215e-12 -7.636681e-14        1.817399e-15 -9.590802e-17   \n",
       "std    1.000000e+00  1.000000e+00        1.000000e+00  1.000000e+00   \n",
       "min   -2.385935e+00 -1.447533e+00       -2.196127e+00 -1.207254e+00   \n",
       "25%   -1.113182e+00 -7.967694e-01       -8.453727e-01 -5.445566e-01   \n",
       "50%    5.389006e-01 -6.422715e-01        2.864502e-02 -2.332048e-01   \n",
       "75%    7.784775e-01  9.729330e-01        6.642943e-01  2.347971e-01   \n",
       "max    2.625216e+00  2.957996e+00        1.856137e+00  1.681517e+01   \n",
       "\n",
       "       total_bedrooms    population    households  median_income  \\\n",
       "count    2.064000e+04  2.064000e+04  2.064000e+04   2.064000e+04   \n",
       "mean    -6.957586e-17 -2.836528e-16  7.563865e-17  -2.523810e-14   \n",
       "std      1.000000e+00  1.000000e+00  1.000000e+00   1.000000e+00   \n",
       "min     -1.275058e+00 -1.256092e+00 -1.303952e+00  -1.774256e+00   \n",
       "25%     -5.741400e-01 -5.637952e-01 -5.742155e-01  -6.881019e-01   \n",
       "50%     -2.438770e-01 -2.291262e-01 -2.368104e-01  -1.767908e-01   \n",
       "75%      2.598335e-01  2.644885e-01  2.758360e-01   4.592952e-01   \n",
       "max      1.403584e+01  3.024960e+01  1.460117e+01   5.858144e+00   \n",
       "\n",
       "       ocean_proximity  \n",
       "count     2.064000e+04  \n",
       "mean     -4.021672e-14  \n",
       "std       1.000000e+00  \n",
       "min      -1.714685e+00  \n",
       "25%      -5.440348e-01  \n",
       "50%      -5.440348e-01  \n",
       "75%       6.266155e-01  \n",
       "max       2.967916e+00  "
      ]
     },
     "execution_count": 22,
     "metadata": {},
     "output_type": "execute_result"
    }
   ],
   "source": [
    "data.describe()"
   ]
  },
  {
   "cell_type": "code",
   "execution_count": 23,
   "metadata": {
    "collapsed": true
   },
   "outputs": [],
   "source": [
    "x_train, x_test, y_train, y_test = train_test_split(features, label, test_size= 0.2, random_state=42)"
   ]
  },
  {
   "cell_type": "code",
   "execution_count": 24,
   "metadata": {},
   "outputs": [
    {
     "data": {
      "text/plain": [
       "16512"
      ]
     },
     "execution_count": 24,
     "metadata": {},
     "output_type": "execute_result"
    }
   ],
   "source": [
    "X = x_train\n",
    "Y = y_train\n",
    "one = np.ones((len(X),1))\n",
    "#...and add to feature matrix\n",
    "X = np.concatenate((one, X), 1)\n",
    "Y.size"
   ]
  },
  {
   "cell_type": "code",
   "execution_count": 25,
   "metadata": {},
   "outputs": [],
   "source": [
    "#GRADIENT DESCENT with newton's method\n",
    "\n",
    "alpha = 0.01 #Step size\n",
    "iterations = 20 #No. of iterations\n",
    "m = Y.size #No. of data points\n",
    "#np.random.seed(42) #Set the seed\n",
    "W = np.random.rand(np.size(X,1)).reshape(-1,1) #Pick some random values to start with\n",
    "\n",
    "\n",
    "#GRADIENT DESCENT\n",
    "def gradient_descent(x, y, theta, iterations, alpha):\n",
    "    past_costs = []\n",
    "    past_thetas = [theta]\n",
    "    for i in range(iterations):\n",
    "        prediction = np.dot(x, theta)\n",
    "        \n",
    "        error = prediction - y\n",
    "        \n",
    "        cost = 1/(2*m) * np.dot(error.T, error)\n",
    "        \n",
    "        past_costs.append(cost)\n",
    "        \n",
    "        gradient = (1/m) * np.dot(x.T, error)\n",
    "        \n",
    "        hessian = 2 * np.dot(x.T,x) / m\n",
    "        \n",
    "        h_inv = np.linalg.inv(hessian)\n",
    "        \n",
    "        theta = theta - (np.dot( h_inv, gradient))\n",
    "        \n",
    "        past_thetas.append(theta)\n",
    "        #print(theta)\n",
    "        #print(past_thetas[0])\n",
    "        \n",
    "    return past_thetas, past_costs\n",
    "\n"
   ]
  },
  {
   "cell_type": "code",
   "execution_count": 26,
   "metadata": {},
   "outputs": [
    {
     "data": {
      "text/plain": [
       "(16512, 1)"
      ]
     },
     "execution_count": 26,
     "metadata": {},
     "output_type": "execute_result"
    }
   ],
   "source": [
    "import time\n",
    "#Pass the relevant variables to the function and get the new values back...\n",
    "start = time.time()\n",
    "\n",
    "past_thetas, past_costs = gradient_descent(X, Y, W, iterations, alpha)\n",
    "\n",
    "end = time.time()\n",
    "\n",
    "W = past_thetas[-1]\n",
    "np.shape(Y)\n",
    "#Print the results...\n",
    "#print(\"Parameters after Gradient Descent: {:.2f}, {:.2f}\".format(W[0][0], W[1][0]))"
   ]
  },
  {
   "cell_type": "code",
   "execution_count": 27,
   "metadata": {},
   "outputs": [
    {
     "data": {
      "text/plain": [
       "(4128, 10)"
      ]
     },
     "execution_count": 27,
     "metadata": {},
     "output_type": "execute_result"
    }
   ],
   "source": [
    "# test set\n",
    "X = x_test\n",
    "Y = y_test\n",
    "one = np.ones((len(X),1))\n",
    "#...and add to feature matrix\n",
    "X = np.concatenate((one, X),1)\n",
    "np.shape(X)"
   ]
  },
  {
   "cell_type": "code",
   "execution_count": 28,
   "metadata": {
    "collapsed": true
   },
   "outputs": [],
   "source": [
    "y_pred = X.dot(W)"
   ]
  },
  {
   "cell_type": "code",
   "execution_count": 29,
   "metadata": {
    "collapsed": true
   },
   "outputs": [],
   "source": [
    "y_test2 = y_test*deviation['median_house_value'] + mean['median_house_value']\n",
    "y_pred2 = y_pred*deviation['median_house_value'] + mean['median_house_value']"
   ]
  },
  {
   "cell_type": "code",
   "execution_count": 30,
   "metadata": {},
   "outputs": [
    {
     "name": "stdout",
     "output_type": "stream",
     "text": [
      "Root mean square error :  71316.5234307\n",
      "Training time : 0.011029720306396484 seconds\n"
     ]
    }
   ],
   "source": [
    "mse = mean_squared_error(y_pred2, y_test2)\n",
    "rmse = np.sqrt(mse)\n",
    "print(\"Root mean square error : \", rmse)\n",
    "print(\"Training time : \" + str(end - start) + ' seconds')"
   ]
  },
  {
   "cell_type": "code",
   "execution_count": null,
   "metadata": {
    "collapsed": true
   },
   "outputs": [],
   "source": []
  }
 ],
 "metadata": {
  "kernelspec": {
   "display_name": "Python 3",
   "language": "python",
   "name": "python3"
  },
  "language_info": {
   "codemirror_mode": {
    "name": "ipython",
    "version": 3
   },
   "file_extension": ".py",
   "mimetype": "text/x-python",
   "name": "python",
   "nbconvert_exporter": "python",
   "pygments_lexer": "ipython3",
   "version": "3.6.3"
  }
 },
 "nbformat": 4,
 "nbformat_minor": 2
}
