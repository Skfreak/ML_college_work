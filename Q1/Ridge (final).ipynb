{
 "cells": [
  {
   "cell_type": "code",
   "execution_count": 1,
   "metadata": {
    "collapsed": true
   },
   "outputs": [],
   "source": [
    "#importing the necessary libraries\n",
    "import matplotlib.pyplot as plt\n",
    "import numpy as np\n",
    "from sklearn.metrics import mean_squared_error, r2_score, mean_absolute_error\n",
    "import pandas as pd\n",
    "import matplotlib.pyplot as plt\n",
    "from numpy.linalg import inv\n",
    "from sklearn.model_selection import train_test_split"
   ]
  },
  {
   "cell_type": "code",
   "execution_count": 2,
   "metadata": {
    "collapsed": true
   },
   "outputs": [],
   "source": [
    "data = pd.read_csv('../datasets/Data_Q1/housing.csv')"
   ]
  },
  {
   "cell_type": "code",
   "execution_count": 3,
   "metadata": {
    "collapsed": true
   },
   "outputs": [],
   "source": [
    "# coverting string data to integer category\n",
    "data['ocean_proximity'] = pd.factorize(data['ocean_proximity'])[0]"
   ]
  },
  {
   "cell_type": "code",
   "execution_count": 4,
   "metadata": {},
   "outputs": [
    {
     "data": {
      "text/plain": [
       "longitude             False\n",
       "latitude              False\n",
       "housing_median_age    False\n",
       "total_rooms           False\n",
       "total_bedrooms        False\n",
       "population            False\n",
       "households            False\n",
       "median_income         False\n",
       "median_house_value    False\n",
       "ocean_proximity       False\n",
       "dtype: bool"
      ]
     },
     "execution_count": 4,
     "metadata": {},
     "output_type": "execute_result"
    }
   ],
   "source": [
    "# doing following since data contains null/NAN value\n",
    "data = data.fillna(method='ffill')\n",
    "\n",
    "#can also use x = x[~numpy.isnan(x)] for a feature\n",
    "data.isnull().any()"
   ]
  },
  {
   "cell_type": "code",
   "execution_count": 5,
   "metadata": {
    "collapsed": true
   },
   "outputs": [],
   "source": [
    "#normalizing the data\n",
    "mean  = data.mean()\n",
    "deviation = data.std()\n",
    "data = (data - data.mean())/data.std()"
   ]
  },
  {
   "cell_type": "code",
   "execution_count": 6,
   "metadata": {
    "collapsed": true
   },
   "outputs": [],
   "source": [
    "label = data['median_house_value']"
   ]
  },
  {
   "cell_type": "code",
   "execution_count": 7,
   "metadata": {
    "collapsed": true
   },
   "outputs": [],
   "source": [
    "data = data.drop([\"median_house_value\"], axis=1)"
   ]
  },
  {
   "cell_type": "code",
   "execution_count": 8,
   "metadata": {
    "collapsed": true
   },
   "outputs": [],
   "source": [
    "features = np.array(data)"
   ]
  },
  {
   "cell_type": "code",
   "execution_count": 9,
   "metadata": {
    "collapsed": true
   },
   "outputs": [],
   "source": [
    "label = np.array(label).reshape(-1,1)"
   ]
  },
  {
   "cell_type": "code",
   "execution_count": 10,
   "metadata": {},
   "outputs": [
    {
     "data": {
      "text/html": [
       "<div>\n",
       "<style>\n",
       "    .dataframe thead tr:only-child th {\n",
       "        text-align: right;\n",
       "    }\n",
       "\n",
       "    .dataframe thead th {\n",
       "        text-align: left;\n",
       "    }\n",
       "\n",
       "    .dataframe tbody tr th {\n",
       "        vertical-align: top;\n",
       "    }\n",
       "</style>\n",
       "<table border=\"1\" class=\"dataframe\">\n",
       "  <thead>\n",
       "    <tr style=\"text-align: right;\">\n",
       "      <th></th>\n",
       "      <th>longitude</th>\n",
       "      <th>latitude</th>\n",
       "      <th>housing_median_age</th>\n",
       "      <th>total_rooms</th>\n",
       "      <th>total_bedrooms</th>\n",
       "      <th>population</th>\n",
       "      <th>households</th>\n",
       "      <th>median_income</th>\n",
       "      <th>ocean_proximity</th>\n",
       "    </tr>\n",
       "  </thead>\n",
       "  <tbody>\n",
       "    <tr>\n",
       "      <th>count</th>\n",
       "      <td>2.064000e+04</td>\n",
       "      <td>2.064000e+04</td>\n",
       "      <td>2.064000e+04</td>\n",
       "      <td>2.064000e+04</td>\n",
       "      <td>2.064000e+04</td>\n",
       "      <td>2.064000e+04</td>\n",
       "      <td>2.064000e+04</td>\n",
       "      <td>2.064000e+04</td>\n",
       "      <td>2.064000e+04</td>\n",
       "    </tr>\n",
       "    <tr>\n",
       "      <th>mean</th>\n",
       "      <td>-1.429215e-12</td>\n",
       "      <td>-7.636681e-14</td>\n",
       "      <td>1.817399e-15</td>\n",
       "      <td>-9.590802e-17</td>\n",
       "      <td>-6.957586e-17</td>\n",
       "      <td>-2.836528e-16</td>\n",
       "      <td>7.563865e-17</td>\n",
       "      <td>-2.523810e-14</td>\n",
       "      <td>-4.021672e-14</td>\n",
       "    </tr>\n",
       "    <tr>\n",
       "      <th>std</th>\n",
       "      <td>1.000000e+00</td>\n",
       "      <td>1.000000e+00</td>\n",
       "      <td>1.000000e+00</td>\n",
       "      <td>1.000000e+00</td>\n",
       "      <td>1.000000e+00</td>\n",
       "      <td>1.000000e+00</td>\n",
       "      <td>1.000000e+00</td>\n",
       "      <td>1.000000e+00</td>\n",
       "      <td>1.000000e+00</td>\n",
       "    </tr>\n",
       "    <tr>\n",
       "      <th>min</th>\n",
       "      <td>-2.385935e+00</td>\n",
       "      <td>-1.447533e+00</td>\n",
       "      <td>-2.196127e+00</td>\n",
       "      <td>-1.207254e+00</td>\n",
       "      <td>-1.275058e+00</td>\n",
       "      <td>-1.256092e+00</td>\n",
       "      <td>-1.303952e+00</td>\n",
       "      <td>-1.774256e+00</td>\n",
       "      <td>-1.714685e+00</td>\n",
       "    </tr>\n",
       "    <tr>\n",
       "      <th>25%</th>\n",
       "      <td>-1.113182e+00</td>\n",
       "      <td>-7.967694e-01</td>\n",
       "      <td>-8.453727e-01</td>\n",
       "      <td>-5.445566e-01</td>\n",
       "      <td>-5.741400e-01</td>\n",
       "      <td>-5.637952e-01</td>\n",
       "      <td>-5.742155e-01</td>\n",
       "      <td>-6.881019e-01</td>\n",
       "      <td>-5.440348e-01</td>\n",
       "    </tr>\n",
       "    <tr>\n",
       "      <th>50%</th>\n",
       "      <td>5.389006e-01</td>\n",
       "      <td>-6.422715e-01</td>\n",
       "      <td>2.864502e-02</td>\n",
       "      <td>-2.332048e-01</td>\n",
       "      <td>-2.438770e-01</td>\n",
       "      <td>-2.291262e-01</td>\n",
       "      <td>-2.368104e-01</td>\n",
       "      <td>-1.767908e-01</td>\n",
       "      <td>-5.440348e-01</td>\n",
       "    </tr>\n",
       "    <tr>\n",
       "      <th>75%</th>\n",
       "      <td>7.784775e-01</td>\n",
       "      <td>9.729330e-01</td>\n",
       "      <td>6.642943e-01</td>\n",
       "      <td>2.347971e-01</td>\n",
       "      <td>2.598335e-01</td>\n",
       "      <td>2.644885e-01</td>\n",
       "      <td>2.758360e-01</td>\n",
       "      <td>4.592952e-01</td>\n",
       "      <td>6.266155e-01</td>\n",
       "    </tr>\n",
       "    <tr>\n",
       "      <th>max</th>\n",
       "      <td>2.625216e+00</td>\n",
       "      <td>2.957996e+00</td>\n",
       "      <td>1.856137e+00</td>\n",
       "      <td>1.681517e+01</td>\n",
       "      <td>1.403584e+01</td>\n",
       "      <td>3.024960e+01</td>\n",
       "      <td>1.460117e+01</td>\n",
       "      <td>5.858144e+00</td>\n",
       "      <td>2.967916e+00</td>\n",
       "    </tr>\n",
       "  </tbody>\n",
       "</table>\n",
       "</div>"
      ],
      "text/plain": [
       "          longitude      latitude  housing_median_age   total_rooms  \\\n",
       "count  2.064000e+04  2.064000e+04        2.064000e+04  2.064000e+04   \n",
       "mean  -1.429215e-12 -7.636681e-14        1.817399e-15 -9.590802e-17   \n",
       "std    1.000000e+00  1.000000e+00        1.000000e+00  1.000000e+00   \n",
       "min   -2.385935e+00 -1.447533e+00       -2.196127e+00 -1.207254e+00   \n",
       "25%   -1.113182e+00 -7.967694e-01       -8.453727e-01 -5.445566e-01   \n",
       "50%    5.389006e-01 -6.422715e-01        2.864502e-02 -2.332048e-01   \n",
       "75%    7.784775e-01  9.729330e-01        6.642943e-01  2.347971e-01   \n",
       "max    2.625216e+00  2.957996e+00        1.856137e+00  1.681517e+01   \n",
       "\n",
       "       total_bedrooms    population    households  median_income  \\\n",
       "count    2.064000e+04  2.064000e+04  2.064000e+04   2.064000e+04   \n",
       "mean    -6.957586e-17 -2.836528e-16  7.563865e-17  -2.523810e-14   \n",
       "std      1.000000e+00  1.000000e+00  1.000000e+00   1.000000e+00   \n",
       "min     -1.275058e+00 -1.256092e+00 -1.303952e+00  -1.774256e+00   \n",
       "25%     -5.741400e-01 -5.637952e-01 -5.742155e-01  -6.881019e-01   \n",
       "50%     -2.438770e-01 -2.291262e-01 -2.368104e-01  -1.767908e-01   \n",
       "75%      2.598335e-01  2.644885e-01  2.758360e-01   4.592952e-01   \n",
       "max      1.403584e+01  3.024960e+01  1.460117e+01   5.858144e+00   \n",
       "\n",
       "       ocean_proximity  \n",
       "count     2.064000e+04  \n",
       "mean     -4.021672e-14  \n",
       "std       1.000000e+00  \n",
       "min      -1.714685e+00  \n",
       "25%      -5.440348e-01  \n",
       "50%      -5.440348e-01  \n",
       "75%       6.266155e-01  \n",
       "max       2.967916e+00  "
      ]
     },
     "execution_count": 10,
     "metadata": {},
     "output_type": "execute_result"
    }
   ],
   "source": [
    "data.describe()"
   ]
  },
  {
   "cell_type": "code",
   "execution_count": 11,
   "metadata": {
    "collapsed": true
   },
   "outputs": [],
   "source": [
    "x_train, x_test, y_train, y_test = train_test_split(features, label, test_size= 0.2, random_state=42)"
   ]
  },
  {
   "cell_type": "code",
   "execution_count": 12,
   "metadata": {},
   "outputs": [
    {
     "data": {
      "text/plain": [
       "10"
      ]
     },
     "execution_count": 12,
     "metadata": {},
     "output_type": "execute_result"
    }
   ],
   "source": [
    "X = x_train\n",
    "Y = y_train\n",
    "one = np.ones((len(X),1))\n",
    "#...and add to feature matrix\n",
    "X = np.concatenate((one, X), 1)\n",
    "np.size(X,1)"
   ]
  },
  {
   "cell_type": "code",
   "execution_count": 13,
   "metadata": {},
   "outputs": [],
   "source": [
    "import time\n",
    "# ridge regression\n",
    "a = 1\n",
    "I = np.size(X,1)\n",
    "A = np.identity(I)\n",
    "alpha = a * A\n",
    "\n",
    "start = time.time()\n",
    "\n",
    "cost_regr = np.subtract((X.transpose().dot(X)), A)\n",
    "coeffs_regr = inv(cost_regr).dot(X.transpose()).dot(Y)\n",
    "\n",
    "end = time.time()\n",
    "#coeffs_regr"
   ]
  },
  {
   "cell_type": "code",
   "execution_count": 14,
   "metadata": {},
   "outputs": [
    {
     "data": {
      "text/plain": [
       "(4128, 10)"
      ]
     },
     "execution_count": 14,
     "metadata": {},
     "output_type": "execute_result"
    }
   ],
   "source": [
    "# test set\n",
    "X = x_test\n",
    "Y = y_test\n",
    "one = np.ones((len(X),1))\n",
    "#...and add to feature matrix\n",
    "X = np.concatenate((one, X),1)\n",
    "np.shape(X)"
   ]
  },
  {
   "cell_type": "code",
   "execution_count": 15,
   "metadata": {
    "collapsed": true
   },
   "outputs": [],
   "source": [
    "y_pred_ridge = X.dot(coeffs_regr)"
   ]
  },
  {
   "cell_type": "code",
   "execution_count": 16,
   "metadata": {
    "collapsed": true
   },
   "outputs": [],
   "source": [
    "#denormalizing the labels\n",
    "y_test = y_test*deviation['median_house_value'] + mean['median_house_value']\n",
    "y_pred_ridge = y_pred_ridge*deviation['median_house_value'] + mean['median_house_value']"
   ]
  },
  {
   "cell_type": "code",
   "execution_count": 17,
   "metadata": {},
   "outputs": [
    {
     "name": "stdout",
     "output_type": "stream",
     "text": [
      "Root mean square error with ridge regression :  71320.8387212\n",
      "Training time : 0.008527755737304688 seconds\n"
     ]
    }
   ],
   "source": [
    "mse2 = mean_squared_error(y_pred_ridge, y_test)\n",
    "rmse_ridge = np.sqrt(mse2)\n",
    "print(\"Root mean square error with ridge regression : \", rmse_ridge)\n",
    "print(\"Training time : \" + str(end - start) + ' seconds')"
   ]
  },
  {
   "cell_type": "code",
   "execution_count": null,
   "metadata": {
    "collapsed": true
   },
   "outputs": [],
   "source": []
  },
  {
   "cell_type": "code",
   "execution_count": null,
   "metadata": {
    "collapsed": true
   },
   "outputs": [],
   "source": []
  }
 ],
 "metadata": {
  "kernelspec": {
   "display_name": "Python 3",
   "language": "python",
   "name": "python3"
  },
  "language_info": {
   "codemirror_mode": {
    "name": "ipython",
    "version": 3
   },
   "file_extension": ".py",
   "mimetype": "text/x-python",
   "name": "python",
   "nbconvert_exporter": "python",
   "pygments_lexer": "ipython3",
   "version": "3.6.3"
  }
 },
 "nbformat": 4,
 "nbformat_minor": 2
}
