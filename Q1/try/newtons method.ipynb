{
 "cells": [
  {
   "cell_type": "code",
   "execution_count": 1,
   "metadata": {
    "collapsed": true
   },
   "outputs": [],
   "source": [
    "#importing the necessary libraries\n",
    "import matplotlib.pyplot as plt\n",
    "import numpy as np\n",
    "from sklearn.metrics import mean_squared_error, r2_score, mean_absolute_error\n",
    "import pandas as pd\n",
    "import matplotlib.pyplot as plt\n",
    "from numpy.linalg import inv"
   ]
  },
  {
   "cell_type": "code",
   "execution_count": 2,
   "metadata": {
    "collapsed": true
   },
   "outputs": [],
   "source": [
    "#multivariate gradient descent\n",
    "data3 = pd.read_csv('../datasets/housing/housing_multivariate.csv')"
   ]
  },
  {
   "cell_type": "code",
   "execution_count": 3,
   "metadata": {},
   "outputs": [
    {
     "data": {
      "text/plain": [
       "longitude             False\n",
       "latitude              False\n",
       "housing_median_age    False\n",
       "total_rooms           False\n",
       "total_bedrooms        False\n",
       "population            False\n",
       "households            False\n",
       "median_income         False\n",
       "median_house_value    False\n",
       "dtype: bool"
      ]
     },
     "execution_count": 3,
     "metadata": {},
     "output_type": "execute_result"
    }
   ],
   "source": [
    "# doing following since data contains null/NAN value\n",
    "data3 = data3.fillna(method='ffill')\n",
    "\n",
    "#can also use x = x[~numpy.isnan(x)] for a feature\n",
    "\n",
    "data3.isnull().any()"
   ]
  },
  {
   "cell_type": "code",
   "execution_count": 4,
   "metadata": {
    "collapsed": true
   },
   "outputs": [],
   "source": [
    "#normalizing the data\n",
    "data2 = (data3 - data3.mean())/data3.std()\n",
    "data2.head()\n",
    "mean  = data3.mean()\n",
    "deviation = data3.std()"
   ]
  },
  {
   "cell_type": "code",
   "execution_count": 5,
   "metadata": {
    "collapsed": true
   },
   "outputs": [],
   "source": [
    "# will divide in 8:2 ratio for train and test\n",
    "#it is ok to call test for now-(consider same as validation)\n",
    "size = len(data2)\n",
    "train_len = int(size * 0.8)\n",
    "test_len = size - train_len"
   ]
  },
  {
   "cell_type": "code",
   "execution_count": 6,
   "metadata": {
    "collapsed": true
   },
   "outputs": [],
   "source": [
    "# Split the data into training/testing sets\n",
    "\n",
    "#len(data[:train_len])\n",
    "#len(data[:test_len])\n",
    "train = np.array(data2[:train_len])\n",
    "test = np.array(data2[:test_len])"
   ]
  },
  {
   "cell_type": "code",
   "execution_count": 7,
   "metadata": {
    "collapsed": true
   },
   "outputs": [],
   "source": [
    "# actual training set and also reshaping to (n X 1) arrays\n",
    "x_train = np.array(train[:,:-1])\n",
    "y_train = np.array(train[:,-1:])\n",
    "x_test = np.array(test[:,:-1])\n",
    "y_test = np.array(test[:,-1:])"
   ]
  },
  {
   "cell_type": "code",
   "execution_count": 8,
   "metadata": {},
   "outputs": [
    {
     "data": {
      "text/plain": [
       "16512"
      ]
     },
     "execution_count": 8,
     "metadata": {},
     "output_type": "execute_result"
    }
   ],
   "source": [
    "X = x_train\n",
    "Y = y_train\n",
    "one = np.ones((len(X),1))\n",
    "#...and add to feature matrix\n",
    "X = np.concatenate((one, X), 1)\n",
    "Y.size\n"
   ]
  },
  {
   "cell_type": "code",
   "execution_count": 57,
   "metadata": {},
   "outputs": [
    {
     "data": {
      "text/plain": [
       "(4128, 1)"
      ]
     },
     "execution_count": 57,
     "metadata": {},
     "output_type": "execute_result"
    }
   ],
   "source": [
    "#GRADIENT DESCENT with newton's method\n",
    "\n",
    "alpha = 0.01 #Step size\n",
    "iterations = 10 #No. of iterations\n",
    "m = Y.size #No. of data points\n",
    "#np.random.seed(42) #Set the seed\n",
    "W = np.random.rand(np.size(X,1)).reshape(-1,1) #Pick some random values to start with\n",
    "\n",
    "\n",
    "#GRADIENT DESCENT\n",
    "def gradient_descent(x, y, theta, iterations, alpha):\n",
    "    past_costs = []\n",
    "    past_thetas = [theta]\n",
    "    for i in range(iterations):\n",
    "        prediction = np.dot(x, theta)\n",
    "        \n",
    "        error = prediction - y\n",
    "        \n",
    "        cost = 1/(2*m) * np.dot(error.T, error)\n",
    "        \n",
    "        past_costs.append(cost)\n",
    "        \n",
    "        gradient = (1/m) * np.dot(x.T, error)\n",
    "        \n",
    "        hessian = 2 * np.dot(x.T,x) / m\n",
    "        \n",
    "        h_inv = np.linalg.inv(hessian)\n",
    "        \n",
    "        theta = theta - (np.dot( h_inv, gradient))\n",
    "        \n",
    "        past_thetas.append(theta)\n",
    "        #print(theta)\n",
    "        #print(past_thetas[0])\n",
    "        \n",
    "    return past_thetas, past_costs\n",
    "\n",
    "#Pass the relevant variables to the function and get the new values back...\n",
    "past_thetas, past_costs = gradient_descent(X, Y, W, iterations, alpha)\n",
    "W = past_thetas[-1]\n",
    "np.shape(Y)\n",
    "#Print the results...\n",
    "#print(\"Parameters after Gradient Descent: {:.2f}, {:.2f}\".format(W[0][0], W[1][0]))"
   ]
  },
  {
   "cell_type": "code",
   "execution_count": 58,
   "metadata": {},
   "outputs": [
    {
     "data": {
      "text/plain": [
       "(4128, 9)"
      ]
     },
     "execution_count": 58,
     "metadata": {},
     "output_type": "execute_result"
    }
   ],
   "source": [
    "# test set\n",
    "X = x_test\n",
    "Y = y_test\n",
    "one = np.ones((len(X),1))\n",
    "#...and add to feature matrix\n",
    "X = np.concatenate((one, X),1)\n",
    "np.shape(X)"
   ]
  },
  {
   "cell_type": "code",
   "execution_count": 59,
   "metadata": {
    "collapsed": true
   },
   "outputs": [],
   "source": [
    "y_pred = X.dot(W)"
   ]
  },
  {
   "cell_type": "code",
   "execution_count": 60,
   "metadata": {},
   "outputs": [
    {
     "name": "stdout",
     "output_type": "stream",
     "text": [
      "Root mean square error :  0.493212817881\n"
     ]
    }
   ],
   "source": [
    "mse = mean_squared_error(y_pred, y_test)\n",
    "rmse = np.sqrt(mse)\n",
    "print(\"Root mean square error : \", rmse)"
   ]
  },
  {
   "cell_type": "code",
   "execution_count": 61,
   "metadata": {
    "collapsed": true
   },
   "outputs": [],
   "source": [
    "y_test2 = y_test*deviation['median_house_value'] + mean['median_house_value']"
   ]
  },
  {
   "cell_type": "code",
   "execution_count": 62,
   "metadata": {},
   "outputs": [
    {
     "data": {
      "text/plain": [
       "array([[ 452600.],\n",
       "       [ 358500.],\n",
       "       [ 352100.],\n",
       "       ..., \n",
       "       [ 204200.],\n",
       "       [ 186500.],\n",
       "       [ 189800.]])"
      ]
     },
     "execution_count": 62,
     "metadata": {},
     "output_type": "execute_result"
    }
   ],
   "source": [
    "y_test2"
   ]
  },
  {
   "cell_type": "code",
   "execution_count": 63,
   "metadata": {
    "collapsed": true
   },
   "outputs": [],
   "source": [
    "y_pred2 = y_pred*deviation['median_house_value'] + mean['median_house_value']"
   ]
  },
  {
   "cell_type": "code",
   "execution_count": 64,
   "metadata": {},
   "outputs": [
    {
     "name": "stdout",
     "output_type": "stream",
     "text": [
      "Root mean square error :  56914.5968765\n"
     ]
    }
   ],
   "source": [
    "mse = mean_squared_error(y_pred2, y_test2)\n",
    "rmse = np.sqrt(mse)\n",
    "print(\"Root mean square error : \", rmse)"
   ]
  },
  {
   "cell_type": "code",
   "execution_count": null,
   "metadata": {
    "collapsed": true
   },
   "outputs": [],
   "source": []
  }
 ],
 "metadata": {
  "kernelspec": {
   "display_name": "Python 3",
   "language": "python",
   "name": "python3"
  },
  "language_info": {
   "codemirror_mode": {
    "name": "ipython",
    "version": 3
   },
   "file_extension": ".py",
   "mimetype": "text/x-python",
   "name": "python",
   "nbconvert_exporter": "python",
   "pygments_lexer": "ipython3",
   "version": "3.6.3"
  }
 },
 "nbformat": 4,
 "nbformat_minor": 2
}
