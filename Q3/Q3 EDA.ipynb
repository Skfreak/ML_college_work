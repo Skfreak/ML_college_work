{
 "cells": [
  {
   "cell_type": "code",
   "execution_count": 47,
   "metadata": {
    "collapsed": true
   },
   "outputs": [],
   "source": [
    "import time\n",
    "import numpy as np\n",
    "import matplotlib.pyplot as plt\n",
    "import pandas as pd\n",
    "%matplotlib inline\n",
    "from sklearn.model_selection import train_test_split"
   ]
  },
  {
   "cell_type": "markdown",
   "metadata": {},
   "source": [
    "## Exploratory Data Analysis\n",
    "\n",
    "In this part we will try to get insights in the data. We will also visualize it to see different relationships between features"
   ]
  },
  {
   "cell_type": "code",
   "execution_count": 48,
   "metadata": {
    "collapsed": true
   },
   "outputs": [],
   "source": [
    "# Exploratory data analysis (EDA)\n",
    "\n",
    "df = pd.read_csv('../datasets/Data_Q3/D21.csv')"
   ]
  },
  {
   "cell_type": "code",
   "execution_count": 49,
   "metadata": {},
   "outputs": [
    {
     "data": {
      "text/html": [
       "<div>\n",
       "<style>\n",
       "    .dataframe thead tr:only-child th {\n",
       "        text-align: right;\n",
       "    }\n",
       "\n",
       "    .dataframe thead th {\n",
       "        text-align: left;\n",
       "    }\n",
       "\n",
       "    .dataframe tbody tr th {\n",
       "        vertical-align: top;\n",
       "    }\n",
       "</style>\n",
       "<table border=\"1\" class=\"dataframe\">\n",
       "  <thead>\n",
       "    <tr style=\"text-align: right;\">\n",
       "      <th></th>\n",
       "      <th>Unnamed: 0</th>\n",
       "      <th>1</th>\n",
       "      <th>2</th>\n",
       "      <th>3</th>\n",
       "      <th>4</th>\n",
       "      <th>5</th>\n",
       "      <th>6</th>\n",
       "      <th>7</th>\n",
       "    </tr>\n",
       "  </thead>\n",
       "  <tbody>\n",
       "    <tr>\n",
       "      <th>0</th>\n",
       "      <td>0</td>\n",
       "      <td>0.046303</td>\n",
       "      <td>0.028466</td>\n",
       "      <td>0.151624</td>\n",
       "      <td>0.007990</td>\n",
       "      <td>0.005973</td>\n",
       "      <td>0.003635</td>\n",
       "      <td>1</td>\n",
       "    </tr>\n",
       "    <tr>\n",
       "      <th>1</th>\n",
       "      <td>1</td>\n",
       "      <td>0.132203</td>\n",
       "      <td>0.296852</td>\n",
       "      <td>-0.068419</td>\n",
       "      <td>0.146222</td>\n",
       "      <td>0.357298</td>\n",
       "      <td>0.150411</td>\n",
       "      <td>0</td>\n",
       "    </tr>\n",
       "    <tr>\n",
       "      <th>2</th>\n",
       "      <td>2</td>\n",
       "      <td>-0.210474</td>\n",
       "      <td>0.144329</td>\n",
       "      <td>0.018591</td>\n",
       "      <td>0.097309</td>\n",
       "      <td>0.122228</td>\n",
       "      <td>0.090209</td>\n",
       "      <td>1</td>\n",
       "    </tr>\n",
       "    <tr>\n",
       "      <th>3</th>\n",
       "      <td>3</td>\n",
       "      <td>0.007505</td>\n",
       "      <td>-0.184451</td>\n",
       "      <td>-0.051672</td>\n",
       "      <td>0.009168</td>\n",
       "      <td>0.023768</td>\n",
       "      <td>0.011703</td>\n",
       "      <td>1</td>\n",
       "    </tr>\n",
       "    <tr>\n",
       "      <th>4</th>\n",
       "      <td>4</td>\n",
       "      <td>-0.081010</td>\n",
       "      <td>0.124602</td>\n",
       "      <td>-0.033422</td>\n",
       "      <td>0.046270</td>\n",
       "      <td>0.032020</td>\n",
       "      <td>0.008429</td>\n",
       "      <td>1</td>\n",
       "    </tr>\n",
       "  </tbody>\n",
       "</table>\n",
       "</div>"
      ],
      "text/plain": [
       "   Unnamed: 0         1         2         3         4         5         6  7\n",
       "0           0  0.046303  0.028466  0.151624  0.007990  0.005973  0.003635  1\n",
       "1           1  0.132203  0.296852 -0.068419  0.146222  0.357298  0.150411  0\n",
       "2           2 -0.210474  0.144329  0.018591  0.097309  0.122228  0.090209  1\n",
       "3           3  0.007505 -0.184451 -0.051672  0.009168  0.023768  0.011703  1\n",
       "4           4 -0.081010  0.124602 -0.033422  0.046270  0.032020  0.008429  1"
      ]
     },
     "execution_count": 49,
     "metadata": {},
     "output_type": "execute_result"
    }
   ],
   "source": [
    "# first few rows of original data\n",
    "df.head()"
   ]
  },
  {
   "cell_type": "code",
   "execution_count": 50,
   "metadata": {},
   "outputs": [
    {
     "data": {
      "text/plain": [
       "['Unnamed: 0', '1', '2', '3', '4', '5', '6', '7']"
      ]
     },
     "execution_count": 50,
     "metadata": {},
     "output_type": "execute_result"
    }
   ],
   "source": [
    "list(df)"
   ]
  },
  {
   "cell_type": "code",
   "execution_count": 51,
   "metadata": {},
   "outputs": [
    {
     "data": {
      "text/html": [
       "<div>\n",
       "<style>\n",
       "    .dataframe thead tr:only-child th {\n",
       "        text-align: right;\n",
       "    }\n",
       "\n",
       "    .dataframe thead th {\n",
       "        text-align: left;\n",
       "    }\n",
       "\n",
       "    .dataframe tbody tr th {\n",
       "        vertical-align: top;\n",
       "    }\n",
       "</style>\n",
       "<table border=\"1\" class=\"dataframe\">\n",
       "  <thead>\n",
       "    <tr style=\"text-align: right;\">\n",
       "      <th></th>\n",
       "      <th>1</th>\n",
       "      <th>2</th>\n",
       "      <th>3</th>\n",
       "      <th>4</th>\n",
       "      <th>5</th>\n",
       "      <th>6</th>\n",
       "      <th>7</th>\n",
       "    </tr>\n",
       "  </thead>\n",
       "  <tbody>\n",
       "    <tr>\n",
       "      <th>0</th>\n",
       "      <td>0.046303</td>\n",
       "      <td>0.028466</td>\n",
       "      <td>0.151624</td>\n",
       "      <td>0.007990</td>\n",
       "      <td>0.005973</td>\n",
       "      <td>0.003635</td>\n",
       "      <td>1</td>\n",
       "    </tr>\n",
       "    <tr>\n",
       "      <th>1</th>\n",
       "      <td>0.132203</td>\n",
       "      <td>0.296852</td>\n",
       "      <td>-0.068419</td>\n",
       "      <td>0.146222</td>\n",
       "      <td>0.357298</td>\n",
       "      <td>0.150411</td>\n",
       "      <td>0</td>\n",
       "    </tr>\n",
       "    <tr>\n",
       "      <th>2</th>\n",
       "      <td>-0.210474</td>\n",
       "      <td>0.144329</td>\n",
       "      <td>0.018591</td>\n",
       "      <td>0.097309</td>\n",
       "      <td>0.122228</td>\n",
       "      <td>0.090209</td>\n",
       "      <td>1</td>\n",
       "    </tr>\n",
       "    <tr>\n",
       "      <th>3</th>\n",
       "      <td>0.007505</td>\n",
       "      <td>-0.184451</td>\n",
       "      <td>-0.051672</td>\n",
       "      <td>0.009168</td>\n",
       "      <td>0.023768</td>\n",
       "      <td>0.011703</td>\n",
       "      <td>1</td>\n",
       "    </tr>\n",
       "    <tr>\n",
       "      <th>4</th>\n",
       "      <td>-0.081010</td>\n",
       "      <td>0.124602</td>\n",
       "      <td>-0.033422</td>\n",
       "      <td>0.046270</td>\n",
       "      <td>0.032020</td>\n",
       "      <td>0.008429</td>\n",
       "      <td>1</td>\n",
       "    </tr>\n",
       "  </tbody>\n",
       "</table>\n",
       "</div>"
      ],
      "text/plain": [
       "          1         2         3         4         5         6  7\n",
       "0  0.046303  0.028466  0.151624  0.007990  0.005973  0.003635  1\n",
       "1  0.132203  0.296852 -0.068419  0.146222  0.357298  0.150411  0\n",
       "2 -0.210474  0.144329  0.018591  0.097309  0.122228  0.090209  1\n",
       "3  0.007505 -0.184451 -0.051672  0.009168  0.023768  0.011703  1\n",
       "4 -0.081010  0.124602 -0.033422  0.046270  0.032020  0.008429  1"
      ]
     },
     "execution_count": 51,
     "metadata": {},
     "output_type": "execute_result"
    }
   ],
   "source": [
    "#deleting the first column since it is use less numbering only\n",
    "\n",
    "my_df = df.drop('Unnamed: 0', axis = 1)\n",
    "my_df.head()"
   ]
  },
  {
   "cell_type": "code",
   "execution_count": 52,
   "metadata": {},
   "outputs": [
    {
     "data": {
      "text/plain": [
       "1    1802\n",
       "0     452\n",
       "Name: 7, dtype: int64"
      ]
     },
     "execution_count": 52,
     "metadata": {},
     "output_type": "execute_result"
    }
   ],
   "source": [
    "#counting the number of lables ( it is an unbalanced dataset )\n",
    "my_df['7'].value_counts()"
   ]
  },
  {
   "cell_type": "code",
   "execution_count": 53,
   "metadata": {},
   "outputs": [
    {
     "name": "stdout",
     "output_type": "stream",
     "text": [
      "<class 'pandas.core.frame.DataFrame'>\n",
      "RangeIndex: 2254 entries, 0 to 2253\n",
      "Data columns (total 7 columns):\n",
      "1    2254 non-null float64\n",
      "2    2254 non-null float64\n",
      "3    2254 non-null float64\n",
      "4    2254 non-null float64\n",
      "5    2254 non-null float64\n",
      "6    2254 non-null float64\n",
      "7    2254 non-null int64\n",
      "dtypes: float64(6), int64(1)\n",
      "memory usage: 123.3 KB\n"
     ]
    }
   ],
   "source": [
    "my_df.info()"
   ]
  },
  {
   "cell_type": "code",
   "execution_count": 54,
   "metadata": {},
   "outputs": [
    {
     "data": {
      "text/html": [
       "<div>\n",
       "<style>\n",
       "    .dataframe thead tr:only-child th {\n",
       "        text-align: right;\n",
       "    }\n",
       "\n",
       "    .dataframe thead th {\n",
       "        text-align: left;\n",
       "    }\n",
       "\n",
       "    .dataframe tbody tr th {\n",
       "        vertical-align: top;\n",
       "    }\n",
       "</style>\n",
       "<table border=\"1\" class=\"dataframe\">\n",
       "  <thead>\n",
       "    <tr style=\"text-align: right;\">\n",
       "      <th></th>\n",
       "      <th>1</th>\n",
       "      <th>2</th>\n",
       "      <th>3</th>\n",
       "      <th>4</th>\n",
       "      <th>5</th>\n",
       "      <th>6</th>\n",
       "      <th>7</th>\n",
       "    </tr>\n",
       "  </thead>\n",
       "  <tbody>\n",
       "    <tr>\n",
       "      <th>count</th>\n",
       "      <td>2254.000000</td>\n",
       "      <td>2254.000000</td>\n",
       "      <td>2254.000000</td>\n",
       "      <td>2254.000000</td>\n",
       "      <td>2254.000000</td>\n",
       "      <td>2254.000000</td>\n",
       "      <td>2254.000000</td>\n",
       "    </tr>\n",
       "    <tr>\n",
       "      <th>mean</th>\n",
       "      <td>0.055471</td>\n",
       "      <td>0.097492</td>\n",
       "      <td>0.015423</td>\n",
       "      <td>0.047272</td>\n",
       "      <td>0.052910</td>\n",
       "      <td>0.052747</td>\n",
       "      <td>0.799468</td>\n",
       "    </tr>\n",
       "    <tr>\n",
       "      <th>std</th>\n",
       "      <td>0.145812</td>\n",
       "      <td>0.174923</td>\n",
       "      <td>0.121642</td>\n",
       "      <td>0.064531</td>\n",
       "      <td>0.076833</td>\n",
       "      <td>0.071523</td>\n",
       "      <td>0.400488</td>\n",
       "    </tr>\n",
       "    <tr>\n",
       "      <th>min</th>\n",
       "      <td>-0.458801</td>\n",
       "      <td>-0.717313</td>\n",
       "      <td>-0.607233</td>\n",
       "      <td>0.000000</td>\n",
       "      <td>0.000000</td>\n",
       "      <td>0.000000</td>\n",
       "      <td>0.000000</td>\n",
       "    </tr>\n",
       "    <tr>\n",
       "      <th>25%</th>\n",
       "      <td>-0.037985</td>\n",
       "      <td>-0.008967</td>\n",
       "      <td>-0.051737</td>\n",
       "      <td>0.011973</td>\n",
       "      <td>0.008963</td>\n",
       "      <td>0.008504</td>\n",
       "      <td>1.000000</td>\n",
       "    </tr>\n",
       "    <tr>\n",
       "      <th>50%</th>\n",
       "      <td>0.062039</td>\n",
       "      <td>0.107267</td>\n",
       "      <td>0.010764</td>\n",
       "      <td>0.023644</td>\n",
       "      <td>0.022970</td>\n",
       "      <td>0.022632</td>\n",
       "      <td>1.000000</td>\n",
       "    </tr>\n",
       "    <tr>\n",
       "      <th>75%</th>\n",
       "      <td>0.134210</td>\n",
       "      <td>0.225356</td>\n",
       "      <td>0.078702</td>\n",
       "      <td>0.053722</td>\n",
       "      <td>0.062584</td>\n",
       "      <td>0.070451</td>\n",
       "      <td>1.000000</td>\n",
       "    </tr>\n",
       "    <tr>\n",
       "      <th>max</th>\n",
       "      <td>0.774888</td>\n",
       "      <td>0.701873</td>\n",
       "      <td>0.656722</td>\n",
       "      <td>0.676036</td>\n",
       "      <td>0.645487</td>\n",
       "      <td>0.691162</td>\n",
       "      <td>1.000000</td>\n",
       "    </tr>\n",
       "  </tbody>\n",
       "</table>\n",
       "</div>"
      ],
      "text/plain": [
       "                 1            2            3            4            5  \\\n",
       "count  2254.000000  2254.000000  2254.000000  2254.000000  2254.000000   \n",
       "mean      0.055471     0.097492     0.015423     0.047272     0.052910   \n",
       "std       0.145812     0.174923     0.121642     0.064531     0.076833   \n",
       "min      -0.458801    -0.717313    -0.607233     0.000000     0.000000   \n",
       "25%      -0.037985    -0.008967    -0.051737     0.011973     0.008963   \n",
       "50%       0.062039     0.107267     0.010764     0.023644     0.022970   \n",
       "75%       0.134210     0.225356     0.078702     0.053722     0.062584   \n",
       "max       0.774888     0.701873     0.656722     0.676036     0.645487   \n",
       "\n",
       "                 6            7  \n",
       "count  2254.000000  2254.000000  \n",
       "mean      0.052747     0.799468  \n",
       "std       0.071523     0.400488  \n",
       "min       0.000000     0.000000  \n",
       "25%       0.008504     1.000000  \n",
       "50%       0.022632     1.000000  \n",
       "75%       0.070451     1.000000  \n",
       "max       0.691162     1.000000  "
      ]
     },
     "execution_count": 54,
     "metadata": {},
     "output_type": "execute_result"
    }
   ],
   "source": [
    "my_df.describe()"
   ]
  },
  {
   "cell_type": "code",
   "execution_count": 55,
   "metadata": {},
   "outputs": [
    {
     "data": {
      "image/png": "[encoded data removed]",
      "text/plain": [
       "<matplotlib.figure.Figure at 0x1f3a96b9860>"
      ]
     },
     "metadata": {},
     "output_type": "display_data"
    }
   ],
   "source": [
    "# plotting histograms of the features and also label\n",
    "my_df.hist(bins=50, figsize=(20,15))\n",
    "plt.show()"
   ]
  },
  {
   "cell_type": "markdown",
   "metadata": {},
   "source": [
    "Looking for Correlations"
   ]
  },
  {
   "cell_type": "code",
   "execution_count": 56,
   "metadata": {
    "collapsed": true
   },
   "outputs": [],
   "source": [
    "corr_matrix = my_df.corr()"
   ]
  },
  {
   "cell_type": "code",
   "execution_count": 57,
   "metadata": {},
   "outputs": [
    {
     "data": {
      "text/plain": [
       "7    1.000000\n",
       "2    0.072545\n",
       "3    0.004242\n",
       "1   -0.117944\n",
       "6   -0.279816\n",
       "4   -0.398477\n",
       "5   -0.491877\n",
       "Name: 7, dtype: float64"
      ]
     },
     "execution_count": 57,
     "metadata": {},
     "output_type": "execute_result"
    }
   ],
   "source": [
    "corr_matrix['7'].sort_values(ascending = False)"
   ]
  },
  {
   "cell_type": "code",
   "execution_count": 58,
   "metadata": {},
   "outputs": [
    {
     "data": {
      "text/html": [
       "<div>\n",
       "<style>\n",
       "    .dataframe thead tr:only-child th {\n",
       "        text-align: right;\n",
       "    }\n",
       "\n",
       "    .dataframe thead th {\n",
       "        text-align: left;\n",
       "    }\n",
       "\n",
       "    .dataframe tbody tr th {\n",
       "        vertical-align: top;\n",
       "    }\n",
       "</style>\n",
       "<table border=\"1\" class=\"dataframe\">\n",
       "  <thead>\n",
       "    <tr style=\"text-align: right;\">\n",
       "      <th></th>\n",
       "      <th>1</th>\n",
       "      <th>2</th>\n",
       "      <th>3</th>\n",
       "      <th>4</th>\n",
       "      <th>5</th>\n",
       "      <th>6</th>\n",
       "      <th>7</th>\n",
       "    </tr>\n",
       "  </thead>\n",
       "  <tbody>\n",
       "    <tr>\n",
       "      <th>1</th>\n",
       "      <td>1.000000</td>\n",
       "      <td>-0.213905</td>\n",
       "      <td>0.055283</td>\n",
       "      <td>-0.040040</td>\n",
       "      <td>0.017195</td>\n",
       "      <td>-0.081457</td>\n",
       "      <td>-0.117944</td>\n",
       "    </tr>\n",
       "    <tr>\n",
       "      <th>2</th>\n",
       "      <td>-0.213905</td>\n",
       "      <td>1.000000</td>\n",
       "      <td>-0.045076</td>\n",
       "      <td>-0.054145</td>\n",
       "      <td>-0.079767</td>\n",
       "      <td>0.112730</td>\n",
       "      <td>0.072545</td>\n",
       "    </tr>\n",
       "    <tr>\n",
       "      <th>3</th>\n",
       "      <td>0.055283</td>\n",
       "      <td>-0.045076</td>\n",
       "      <td>1.000000</td>\n",
       "      <td>-0.017537</td>\n",
       "      <td>-0.069442</td>\n",
       "      <td>0.010132</td>\n",
       "      <td>0.004242</td>\n",
       "    </tr>\n",
       "    <tr>\n",
       "      <th>4</th>\n",
       "      <td>-0.040040</td>\n",
       "      <td>-0.054145</td>\n",
       "      <td>-0.017537</td>\n",
       "      <td>1.000000</td>\n",
       "      <td>0.663467</td>\n",
       "      <td>0.575025</td>\n",
       "      <td>-0.398477</td>\n",
       "    </tr>\n",
       "    <tr>\n",
       "      <th>5</th>\n",
       "      <td>0.017195</td>\n",
       "      <td>-0.079767</td>\n",
       "      <td>-0.069442</td>\n",
       "      <td>0.663467</td>\n",
       "      <td>1.000000</td>\n",
       "      <td>0.589606</td>\n",
       "      <td>-0.491877</td>\n",
       "    </tr>\n",
       "    <tr>\n",
       "      <th>6</th>\n",
       "      <td>-0.081457</td>\n",
       "      <td>0.112730</td>\n",
       "      <td>0.010132</td>\n",
       "      <td>0.575025</td>\n",
       "      <td>0.589606</td>\n",
       "      <td>1.000000</td>\n",
       "      <td>-0.279816</td>\n",
       "    </tr>\n",
       "    <tr>\n",
       "      <th>7</th>\n",
       "      <td>-0.117944</td>\n",
       "      <td>0.072545</td>\n",
       "      <td>0.004242</td>\n",
       "      <td>-0.398477</td>\n",
       "      <td>-0.491877</td>\n",
       "      <td>-0.279816</td>\n",
       "      <td>1.000000</td>\n",
       "    </tr>\n",
       "  </tbody>\n",
       "</table>\n",
       "</div>"
      ],
      "text/plain": [
       "          1         2         3         4         5         6         7\n",
       "1  1.000000 -0.213905  0.055283 -0.040040  0.017195 -0.081457 -0.117944\n",
       "2 -0.213905  1.000000 -0.045076 -0.054145 -0.079767  0.112730  0.072545\n",
       "3  0.055283 -0.045076  1.000000 -0.017537 -0.069442  0.010132  0.004242\n",
       "4 -0.040040 -0.054145 -0.017537  1.000000  0.663467  0.575025 -0.398477\n",
       "5  0.017195 -0.079767 -0.069442  0.663467  1.000000  0.589606 -0.491877\n",
       "6 -0.081457  0.112730  0.010132  0.575025  0.589606  1.000000 -0.279816\n",
       "7 -0.117944  0.072545  0.004242 -0.398477 -0.491877 -0.279816  1.000000"
      ]
     },
     "execution_count": 58,
     "metadata": {},
     "output_type": "execute_result"
    }
   ],
   "source": [
    "corr_matrix"
   ]
  },
  {
   "cell_type": "markdown",
   "metadata": {},
   "source": [
    "Above we observe that feature 3 is not correlated to any of the features so we can remove it if we want"
   ]
  },
  {
   "cell_type": "markdown",
   "metadata": {},
   "source": [
    "#### Check for null values"
   ]
  },
  {
   "cell_type": "code",
   "execution_count": 59,
   "metadata": {},
   "outputs": [
    {
     "data": {
      "text/plain": [
       "1    False\n",
       "2    False\n",
       "3    False\n",
       "4    False\n",
       "5    False\n",
       "6    False\n",
       "7    False\n",
       "dtype: bool"
      ]
     },
     "execution_count": 59,
     "metadata": {},
     "output_type": "execute_result"
    }
   ],
   "source": [
    "my_df.isnull().any()"
   ]
  },
  {
   "cell_type": "markdown",
   "metadata": {},
   "source": [
    "Since there are no null values in our data set we are now finished with the EDA\n",
    "\n",
    "Now we can move on to the machine learning part"
   ]
  },
  {
   "cell_type": "code",
   "execution_count": 60,
   "metadata": {
    "collapsed": true
   },
   "outputs": [],
   "source": [
    "#importing libraries\n",
    "from sklearn.linear_model import LogisticRegression\n",
    "from sklearn.metrics import accuracy_score, precision_score, recall_score, f1_score, roc_auc_score"
   ]
  },
  {
   "cell_type": "code",
   "execution_count": 61,
   "metadata": {
    "collapsed": true
   },
   "outputs": [],
   "source": [
    "# dividing data to features and labels\n",
    "data = np.array(my_df)\n",
    "X = data[:,:6]\n",
    "Y = data[:,6:]"
   ]
  },
  {
   "cell_type": "code",
   "execution_count": 62,
   "metadata": {
    "collapsed": true
   },
   "outputs": [],
   "source": [
    "# splitting data into training and test\n",
    "\n",
    "x_train, x_test, y_train, y_test = train_test_split(X, Y, test_size = 0.2)"
   ]
  },
  {
   "cell_type": "markdown",
   "metadata": {},
   "source": [
    "### First doing logistic regression using scikit learn library"
   ]
  },
  {
   "cell_type": "code",
   "execution_count": 63,
   "metadata": {
    "collapsed": true
   },
   "outputs": [],
   "source": [
    "clf = LogisticRegression( C = 20)"
   ]
  },
  {
   "cell_type": "code",
   "execution_count": 64,
   "metadata": {},
   "outputs": [
    {
     "name": "stderr",
     "output_type": "stream",
     "text": [
      "C:\\ProgramData\\Anaconda3\\lib\\site-packages\\sklearn\\utils\\validation.py:578: DataConversionWarning: A column-vector y was passed when a 1d array was expected. Please change the shape of y to (n_samples, ), for example using ravel().\n",
      "  y = column_or_1d(y, warn=True)\n"
     ]
    }
   ],
   "source": [
    "start_time = time.time()\n",
    "\n",
    "clf.fit(x_train, y_train)\n",
    "\n",
    "end_time = time.time()"
   ]
  },
  {
   "cell_type": "code",
   "execution_count": 65,
   "metadata": {
    "collapsed": true
   },
   "outputs": [],
   "source": [
    "y_pred = clf.predict(x_test)"
   ]
  },
  {
   "cell_type": "code",
   "execution_count": 66,
   "metadata": {},
   "outputs": [
    {
     "name": "stdout",
     "output_type": "stream",
     "text": [
      "Execution time : 0.003007173538208008 seconds \n",
      "Accuracy using scikit learn Logistic Regression : 84.9223946785\n",
      "Precision : 0.838804327893\n",
      "Recall : 0.849223946785\n",
      "F1_score : 0.824165539152\n",
      "Roc_Auc_score : 0.652376033058\n"
     ]
    }
   ],
   "source": [
    "print('Execution time : ' + str(end_time - start_time) + ' seconds ')\n",
    "print('Accuracy using scikit learn Logistic Regression : ' + str(100 * accuracy_score(y_test, y_pred) ) )\n",
    "print('Precision : ' + str(precision_score(y_test, y_pred, average='weighted')))\n",
    "print('Recall : ' + str(recall_score(y_test, y_pred, average='weighted')))\n",
    "print('F1_score : ' + str(f1_score(y_test, y_pred, average='weighted')))\n",
    "print('Roc_Auc_score : ' + str(roc_auc_score( y_test, y_pred )))"
   ]
  },
  {
   "cell_type": "markdown",
   "metadata": {},
   "source": [
    "### Doing Nearest Neighbour Classification"
   ]
  },
  {
   "cell_type": "code",
   "execution_count": 67,
   "metadata": {
    "collapsed": true
   },
   "outputs": [],
   "source": [
    "start_time = time.time()\n",
    "pred = []\n",
    "for j in range(len(x_test)):\n",
    "    sample = x_test[j]\n",
    "    min_dist = 9999\n",
    "    for i in range(len(x_train)):\n",
    "\n",
    "        temp = x_train[i]\n",
    "        #calculating norm\n",
    "        \n",
    "        dist = np.linalg.norm(sample - temp)\n",
    "        \n",
    "        if(dist<min_dist):\n",
    "            min_dist = dist\n",
    "            index = i\n",
    "    #appending the prediction\n",
    "    pred.append(index)\n",
    "\n",
    "    count = 0\n",
    "    \n",
    "end_time = time.time()\n",
    "\n",
    "y_pred =[]\n",
    "\n",
    "for i in range(len(pred)):\n",
    "    if(y_train[pred[i]] == y_test[i]):\n",
    "        count = count + 1\n",
    "    y_pred.append(y_train[pred[i]])\n",
    "\n",
    "        \n",
    "acc = (float(count)/float(len(pred))) * 100       "
   ]
  },
  {
   "cell_type": "code",
   "execution_count": 68,
   "metadata": {},
   "outputs": [
    {
     "name": "stdout",
     "output_type": "stream",
     "text": [
      "Accuracy : 82.48337%\n",
      "Precision : 0.809603476266\n",
      "Execution time : 3.7094690799713135 seconds \n",
      "Recall : 0.824833702882\n",
      "F1_score : 0.814357077836\n",
      "Roc_Auc_score : 0.671659779614\n"
     ]
    }
   ],
   "source": [
    "print(\"Accuracy : {:.5f}%\".format(acc))\n",
    "print('Precision : ' + str(precision_score(y_test, y_pred, average= 'weighted')))\n",
    "print('Execution time : ' + str(end_time - start_time) + ' seconds ')\n",
    "print('Recall : ' + str(recall_score(y_test, y_pred, average = 'weighted')))\n",
    "print('F1_score : ' + str(f1_score(y_test, y_pred, average = 'weighted')))\n",
    "print('Roc_Auc_score : ' + str(roc_auc_score( y_test, y_pred )))"
   ]
  },
  {
   "cell_type": "markdown",
   "metadata": {},
   "source": [
    "### Logistic Regression using gradient descent"
   ]
  },
  {
   "cell_type": "code",
   "execution_count": 69,
   "metadata": {
    "collapsed": true
   },
   "outputs": [],
   "source": [
    "from math import exp\n",
    "\n",
    "# sigmoid or logistic function we are gonna use \n",
    "def sigmoid(scores):\n",
    "    return ( 1.0 / (1.0 + np.exp(-scores)))\n",
    "\n",
    "\n",
    "\n",
    "# finding log likelihood : we derived this L(w) where w is a vector of parameters we wnt to learn for which prob.\n",
    "# of classlabel is maximized\n",
    "\n",
    "# in following weights are parameters we want to learn for which we get the best or optimum answer\n",
    "# features and labels (target vals) , scores is our hypothese function before applying sigmoid function\n",
    "def log_likelihood(features, target, weights): \n",
    "    scores = np.dot(features, weights)      # scores is (wTranspose x) , target is yi or labels \n",
    "    ll = np.sum( target*scores - np.log(1 + np.exp(scores)) )      #look at this eqn we have derived as log likelihood\n",
    "    return ll\n",
    "\n",
    "# by taking derivative of loglikelihood eqn or ll we will get a gradient : which we ll use here\n",
    "\n",
    "def logistic_regression(features, target, num_steps, learning_rate, add_intercept = False):\n",
    "    if add_intercept:\n",
    "        intercept = np.ones((features.shape[0], 1))\n",
    "        features = np.hstack((intercept, features))\n",
    "        \n",
    "    weights = np.zeros(features.shape[1]).reshape(-1,1)     # intaliazing parameter values\n",
    "    \n",
    "    for step in range(num_steps):\n",
    "        scores = np.array(np.dot(features, weights),dtype=np.float32 )    # h(x) = wT.x\n",
    "        predictions = sigmoid(scores)      # our hypotheses function after applying sigmoid  : h(x) = sigmoid(wT.x) \n",
    "        \n",
    "\n",
    "        # Update weights with gradient\n",
    "        #print(target)\n",
    "        #print(predictions)\n",
    "        output_error_signal = target - predictions      #  target means yi or actual labels , predictions means p(xi) or predicted prob.\n",
    "        gradient = np.dot(features.T, output_error_signal)    # this eqn we have derived : it is a derivative of ll : log likelihood\n",
    "        \n",
    "        weights += learning_rate * gradient       # forumula for G.D. Wnew = Wold + n * gradient : here + because we are maximizing\n",
    "        \n",
    "        # Print log-likelihood every so often\n",
    "        #if step % 10000 == 0:\n",
    "           # print(log_likelihood(features, target, weights))\n",
    "            \n",
    "    return weights"
   ]
  },
  {
   "cell_type": "code",
   "execution_count": 70,
   "metadata": {
    "collapsed": true
   },
   "outputs": [],
   "source": [
    "start = time.time()\n",
    "#call to the function we have defined\n",
    "weights = logistic_regression(x_train, y_train,num_steps = 10000, learning_rate = 0.001, add_intercept=True)\n",
    "end =time.time()\n",
    "# these are the parameter values we have learned for optimum ( maximum ) confidence for given class label : frm training data"
   ]
  },
  {
   "cell_type": "code",
   "execution_count": 71,
   "metadata": {
    "collapsed": true
   },
   "outputs": [],
   "source": [
    "# accuracy of logistic regression with gradient descent \n",
    "\n",
    "data_with_intercept = np.hstack((np.ones((x_test.shape[0], 1)),x_test))\n",
    "final_scores = np.dot(data_with_intercept, weights)\n",
    "y_pred = np.round(sigmoid(final_scores))         # we are rounding final predicted prob. to neareset class label 0 or 1"
   ]
  },
  {
   "cell_type": "code",
   "execution_count": 72,
   "metadata": {},
   "outputs": [
    {
     "data": {
      "text/plain": [
       "451"
      ]
     },
     "execution_count": 72,
     "metadata": {},
     "output_type": "execute_result"
    }
   ],
   "source": [
    "len(y_pred)"
   ]
  },
  {
   "cell_type": "code",
   "execution_count": 73,
   "metadata": {},
   "outputs": [
    {
     "name": "stdout",
     "output_type": "stream",
     "text": [
      "Accuracy : 84.7006651885 %\n",
      "Precision : 0.834707068131\n",
      "Execution time : 0.5269415378570557 seconds \n",
      "Recall : 0.847006651885\n",
      "F1_score : 0.822328750999\n",
      "Roc_Auc_score : 0.65099862259\n"
     ]
    }
   ],
   "source": [
    "print(\"Accuracy : \" + str(100 * accuracy_score( y_pred, y_test ) ) + \" %\")\n",
    "print('Precision : ' + str(precision_score(y_test, y_pred, average= 'weighted')))\n",
    "print('Execution time : ' + str(end - start) + ' seconds ')\n",
    "print('Recall : ' + str(recall_score(y_test, y_pred, average = 'weighted')))\n",
    "print('F1_score : ' + str(f1_score(y_test, y_pred, average = 'weighted')))\n",
    "print('Roc_Auc_score : ' + str(roc_auc_score( y_test, y_pred )))"
   ]
  },
  {
   "cell_type": "markdown",
   "metadata": {},
   "source": [
    "### Logistic using Newton's Method"
   ]
  },
  {
   "cell_type": "code",
   "execution_count": null,
   "metadata": {},
   "outputs": [],
   "source": []
  },
  {
   "cell_type": "code",
   "execution_count": 74,
   "metadata": {
    "collapsed": true
   },
   "outputs": [],
   "source": [
    "\n",
    "\n",
    "# sigmoid or logistic function we are gonna use \n",
    "def sigmoidN(scores):\n",
    "    return ( 1.0 / (1.0 + np.exp(-scores)))\n",
    "\n",
    "\n",
    "\n",
    "# finding log likelihood : we derived this L(w) where w is a vector of parameters we wnt to learn for which prob.\n",
    "# of classlabel is maximized\n",
    "\n",
    "# in following weights are parameters we want to learn for which we get the best or optimum answer\n",
    "# features and labels (target vals) , scores is our hypothese function before applying sigmoid function\n",
    "def log_likelihoodN(features, target, weights): \n",
    "    scores = np.dot(features, weights)      # scores is (wTranspose x) , target is yi or labels \n",
    "    ll = np.sum( target*scores - np.log(1 + np.exp(scores)) )      #look at this eqn we have derived as log likelihood\n",
    "    return ll\n",
    "\n",
    "# by taking derivative of loglikelihood eqn or ll we will get a gradient : which we ll use here\n",
    "\n",
    "def logistic_regression_newton(features, target, num_steps, learning_rate, add_intercept = False):\n",
    "    if add_intercept:\n",
    "        intercept = np.ones((features.shape[0], 1))\n",
    "        features = np.hstack((intercept, features))\n",
    "        \n",
    "    weights = np.zeros(features.shape[1]).reshape(-1,1)     # intaliazing parameter values\n",
    "    m = features.shape[0]\n",
    "    for step in range(num_steps):\n",
    "        scores = np.array(np.dot(features, weights),dtype = np.float64 )    # h(x) = wT.x\n",
    "        predictions = sigmoidN(scores)      # our hypotheses function after applying sigmoid  : h(x) = sigmoid(wT.x) \n",
    "   \n",
    "        sigma = np.dot(predictions, (1 - predictions).T)\n",
    "        sigma = np.diag((sigma)[:,0])\n",
    "        #print(np.shape(sigma))\n",
    "        temp = np.dot(sigma, features)\n",
    "        \n",
    "        #the hessian matrix\n",
    "        hessian = np.dot(features.T, temp)\n",
    "        \n",
    "        #inverse of hessian\n",
    "        hessian_inv = np.linalg.inv(hessian) / m     \n",
    "\n",
    "        # Update weights with gradient\n",
    "        #print(target)\n",
    "        #print(predictions)\n",
    "        output_error_signal = target - predictions      #  target means yi or actual labels , predictions means p(xi) or predicted prob.\n",
    "        gradient = np.dot(features.T, output_error_signal) / m  # this eqn we have derived : it is a derivative of ll : log likelihood\n",
    "        #print(np.shape(target))\n",
    "        weights += (np.dot(hessian_inv, gradient))       # forumula for G.D. Wnew = Wold + n * gradient : here + because we are maximizing\n",
    "        \n",
    "        # Print log-likelihood every so often\n",
    "        #if step % 10000 == 0:\n",
    "           # print(log_likelihood(features, target, weights))\n",
    "            \n",
    "    return weights"
   ]
  },
  {
   "cell_type": "code",
   "execution_count": 75,
   "metadata": {
    "collapsed": true
   },
   "outputs": [],
   "source": [
    "start = time.time()\n",
    "#call to the function we have defined\n",
    "weights = logistic_regression_newton(x_train, y_train,num_steps = 5, learning_rate = 0.001, add_intercept=True)\n",
    "end =time.time()\n",
    "# these are the parameter values we have learned for optimum ( maximum ) confidence for given class label : frm training data"
   ]
  },
  {
   "cell_type": "code",
   "execution_count": 76,
   "metadata": {},
   "outputs": [],
   "source": [
    "# accuracy of logistic regression with gradient descent \n",
    "\n",
    "data_with_intercept = np.hstack((np.ones((x_test.shape[0], 1)),x_test))\n",
    "final_scores = np.dot(data_with_intercept, weights)\n",
    "y_pred = np.round(sigmoid(final_scores))         # we are rounding final predicted prob. to neareset class label 0 or 1"
   ]
  },
  {
   "cell_type": "code",
   "execution_count": 77,
   "metadata": {},
   "outputs": [
    {
     "name": "stdout",
     "output_type": "stream",
     "text": [
      "Accuracy : 83.8137472284 %\n",
      "Precision : 0.82945364831\n",
      "Execution time : 0.1498725414276123 seconds \n",
      "Recall : 0.838137472284\n",
      "F1_score : 0.801481659146\n",
      "Roc_Auc_score : 0.611053719008\n"
     ]
    }
   ],
   "source": [
    "print(\"Accuracy : \" + str(100 * accuracy_score( y_pred, y_test ) ) + \" %\")\n",
    "print('Precision : ' + str(precision_score(y_test, y_pred, average= 'weighted')))\n",
    "print('Execution time : ' + str(end - start) + ' seconds ')\n",
    "print('Recall : ' + str(recall_score(y_test, y_pred, average = 'weighted')))\n",
    "print('F1_score : ' + str(f1_score(y_test, y_pred, average = 'weighted')))\n",
    "print('Roc_Auc_score : ' + str(roc_auc_score( y_test, y_pred )))"
   ]
  },
  {
   "cell_type": "markdown",
   "metadata": {
    "collapsed": true,
    "slideshow": {
     "slide_type": "slide"
    }
   },
   "source": [
    "### Gaussian Naive Bayes Classifier"
   ]
  },
  {
   "cell_type": "code",
   "execution_count": 78,
   "metadata": {
    "collapsed": true
   },
   "outputs": [],
   "source": [
    "df = pd.read_csv('../datasets/Data_Q3/D21.csv')"
   ]
  },
  {
   "cell_type": "code",
   "execution_count": 79,
   "metadata": {},
   "outputs": [
    {
     "data": {
      "text/html": [
       "<div>\n",
       "<style>\n",
       "    .dataframe thead tr:only-child th {\n",
       "        text-align: right;\n",
       "    }\n",
       "\n",
       "    .dataframe thead th {\n",
       "        text-align: left;\n",
       "    }\n",
       "\n",
       "    .dataframe tbody tr th {\n",
       "        vertical-align: top;\n",
       "    }\n",
       "</style>\n",
       "<table border=\"1\" class=\"dataframe\">\n",
       "  <thead>\n",
       "    <tr style=\"text-align: right;\">\n",
       "      <th></th>\n",
       "      <th>Unnamed: 0</th>\n",
       "      <th>1</th>\n",
       "      <th>2</th>\n",
       "      <th>3</th>\n",
       "      <th>4</th>\n",
       "      <th>5</th>\n",
       "      <th>6</th>\n",
       "      <th>7</th>\n",
       "    </tr>\n",
       "  </thead>\n",
       "  <tbody>\n",
       "    <tr>\n",
       "      <th>0</th>\n",
       "      <td>0</td>\n",
       "      <td>0.046303</td>\n",
       "      <td>0.028466</td>\n",
       "      <td>0.151624</td>\n",
       "      <td>0.007990</td>\n",
       "      <td>0.005973</td>\n",
       "      <td>0.003635</td>\n",
       "      <td>1</td>\n",
       "    </tr>\n",
       "    <tr>\n",
       "      <th>1</th>\n",
       "      <td>1</td>\n",
       "      <td>0.132203</td>\n",
       "      <td>0.296852</td>\n",
       "      <td>-0.068419</td>\n",
       "      <td>0.146222</td>\n",
       "      <td>0.357298</td>\n",
       "      <td>0.150411</td>\n",
       "      <td>0</td>\n",
       "    </tr>\n",
       "    <tr>\n",
       "      <th>2</th>\n",
       "      <td>2</td>\n",
       "      <td>-0.210474</td>\n",
       "      <td>0.144329</td>\n",
       "      <td>0.018591</td>\n",
       "      <td>0.097309</td>\n",
       "      <td>0.122228</td>\n",
       "      <td>0.090209</td>\n",
       "      <td>1</td>\n",
       "    </tr>\n",
       "    <tr>\n",
       "      <th>3</th>\n",
       "      <td>3</td>\n",
       "      <td>0.007505</td>\n",
       "      <td>-0.184451</td>\n",
       "      <td>-0.051672</td>\n",
       "      <td>0.009168</td>\n",
       "      <td>0.023768</td>\n",
       "      <td>0.011703</td>\n",
       "      <td>1</td>\n",
       "    </tr>\n",
       "    <tr>\n",
       "      <th>4</th>\n",
       "      <td>4</td>\n",
       "      <td>-0.081010</td>\n",
       "      <td>0.124602</td>\n",
       "      <td>-0.033422</td>\n",
       "      <td>0.046270</td>\n",
       "      <td>0.032020</td>\n",
       "      <td>0.008429</td>\n",
       "      <td>1</td>\n",
       "    </tr>\n",
       "  </tbody>\n",
       "</table>\n",
       "</div>"
      ],
      "text/plain": [
       "   Unnamed: 0         1         2         3         4         5         6  7\n",
       "0           0  0.046303  0.028466  0.151624  0.007990  0.005973  0.003635  1\n",
       "1           1  0.132203  0.296852 -0.068419  0.146222  0.357298  0.150411  0\n",
       "2           2 -0.210474  0.144329  0.018591  0.097309  0.122228  0.090209  1\n",
       "3           3  0.007505 -0.184451 -0.051672  0.009168  0.023768  0.011703  1\n",
       "4           4 -0.081010  0.124602 -0.033422  0.046270  0.032020  0.008429  1"
      ]
     },
     "execution_count": 79,
     "metadata": {},
     "output_type": "execute_result"
    }
   ],
   "source": [
    "df.head()"
   ]
  },
  {
   "cell_type": "code",
   "execution_count": 80,
   "metadata": {},
   "outputs": [
    {
     "data": {
      "text/html": [
       "<div>\n",
       "<style>\n",
       "    .dataframe thead tr:only-child th {\n",
       "        text-align: right;\n",
       "    }\n",
       "\n",
       "    .dataframe thead th {\n",
       "        text-align: left;\n",
       "    }\n",
       "\n",
       "    .dataframe tbody tr th {\n",
       "        vertical-align: top;\n",
       "    }\n",
       "</style>\n",
       "<table border=\"1\" class=\"dataframe\">\n",
       "  <thead>\n",
       "    <tr style=\"text-align: right;\">\n",
       "      <th></th>\n",
       "      <th>1</th>\n",
       "      <th>2</th>\n",
       "      <th>3</th>\n",
       "      <th>4</th>\n",
       "      <th>5</th>\n",
       "      <th>6</th>\n",
       "      <th>7</th>\n",
       "    </tr>\n",
       "  </thead>\n",
       "  <tbody>\n",
       "    <tr>\n",
       "      <th>0</th>\n",
       "      <td>0.046303</td>\n",
       "      <td>0.028466</td>\n",
       "      <td>0.151624</td>\n",
       "      <td>0.007990</td>\n",
       "      <td>0.005973</td>\n",
       "      <td>0.003635</td>\n",
       "      <td>1</td>\n",
       "    </tr>\n",
       "    <tr>\n",
       "      <th>1</th>\n",
       "      <td>0.132203</td>\n",
       "      <td>0.296852</td>\n",
       "      <td>-0.068419</td>\n",
       "      <td>0.146222</td>\n",
       "      <td>0.357298</td>\n",
       "      <td>0.150411</td>\n",
       "      <td>0</td>\n",
       "    </tr>\n",
       "    <tr>\n",
       "      <th>2</th>\n",
       "      <td>-0.210474</td>\n",
       "      <td>0.144329</td>\n",
       "      <td>0.018591</td>\n",
       "      <td>0.097309</td>\n",
       "      <td>0.122228</td>\n",
       "      <td>0.090209</td>\n",
       "      <td>1</td>\n",
       "    </tr>\n",
       "    <tr>\n",
       "      <th>3</th>\n",
       "      <td>0.007505</td>\n",
       "      <td>-0.184451</td>\n",
       "      <td>-0.051672</td>\n",
       "      <td>0.009168</td>\n",
       "      <td>0.023768</td>\n",
       "      <td>0.011703</td>\n",
       "      <td>1</td>\n",
       "    </tr>\n",
       "    <tr>\n",
       "      <th>4</th>\n",
       "      <td>-0.081010</td>\n",
       "      <td>0.124602</td>\n",
       "      <td>-0.033422</td>\n",
       "      <td>0.046270</td>\n",
       "      <td>0.032020</td>\n",
       "      <td>0.008429</td>\n",
       "      <td>1</td>\n",
       "    </tr>\n",
       "  </tbody>\n",
       "</table>\n",
       "</div>"
      ],
      "text/plain": [
       "          1         2         3         4         5         6  7\n",
       "0  0.046303  0.028466  0.151624  0.007990  0.005973  0.003635  1\n",
       "1  0.132203  0.296852 -0.068419  0.146222  0.357298  0.150411  0\n",
       "2 -0.210474  0.144329  0.018591  0.097309  0.122228  0.090209  1\n",
       "3  0.007505 -0.184451 -0.051672  0.009168  0.023768  0.011703  1\n",
       "4 -0.081010  0.124602 -0.033422  0.046270  0.032020  0.008429  1"
      ]
     },
     "execution_count": 80,
     "metadata": {},
     "output_type": "execute_result"
    }
   ],
   "source": [
    "#deleting the first column since it is use less numbering only\n",
    "df = df.drop('Unnamed: 0', axis = 1)\n",
    "df.head()"
   ]
  },
  {
   "cell_type": "code",
   "execution_count": 81,
   "metadata": {},
   "outputs": [
    {
     "data": {
      "text/plain": [
       "6"
      ]
     },
     "execution_count": 81,
     "metadata": {},
     "output_type": "execute_result"
    }
   ],
   "source": [
    "df.shape[1]-1"
   ]
  },
  {
   "cell_type": "code",
   "execution_count": 82,
   "metadata": {
    "collapsed": true
   },
   "outputs": [],
   "source": [
    "# defining a function to find mean and std dev of all features for given class\n",
    "\n",
    "meanvector=[]\n",
    "features_count = df.shape[1]-1\n",
    "\n",
    "def findMeanVector(df):\n",
    "    '''find mean vector for features of given dataframe'''\n",
    "    for i in range(0,features_count):\n",
    "        mean = df.ix[:,i].mean()\n",
    "        meanvector.insert(i,mean)\n",
    "        \n",
    "    return meanvector\n",
    "\n",
    "#defining a function to find std dev of all features for given class\n",
    "\n",
    "stdvector=[]\n",
    "features_count = df.shape[1]-1\n",
    "\n",
    "def findStdVector(df):\n",
    "    '''find std dev vector for features of given dataframe'''\n",
    "    for i in range(0,features_count):\n",
    "        std = df.ix[:,i].std()\n",
    "        stdvector.insert(i,std)\n",
    "        \n",
    "    return stdvector"
   ]
  },
  {
   "cell_type": "code",
   "execution_count": 83,
   "metadata": {
    "collapsed": true
   },
   "outputs": [],
   "source": [
    "#gaussain pdf : calculateProbability() function\n",
    "\n",
    "import math\n",
    "def calculateProbability(x, mean, stdev):\n",
    "    '''prob of feature given class label'''\n",
    "    exponent = math.exp(-(math.pow(x-mean,2)/(2*math.pow(stdev,2))))\n",
    "    return (1 / (math.sqrt(2*math.pi) * stdev)) * exponent\n",
    "\n",
    "def probOfClass(datapt , df):   # means given data point values u find prob of tht point belonging this class\n",
    "    ''' will return prob of class label given features'''\n",
    "    pr = 1\n",
    "    meanVector = findMeanVector(df)\n",
    "    stdVector = findStdVector(df)\n",
    "    for i in range(0,6):    # 6 features\n",
    "        pr *= calculateProbability(datapt.iat[0,i],meanVector[i],stdVector[i])\n",
    "    return pr"
   ]
  },
  {
   "cell_type": "code",
   "execution_count": 84,
   "metadata": {},
   "outputs": [
    {
     "name": "stdout",
     "output_type": "stream",
     "text": [
      "             1         2         3         4         5         6  7\n",
      "629   0.009157  0.139985 -0.011941  0.023705  0.010136  0.011952  1\n",
      "995   0.393912  0.089227 -0.087177  0.063640  0.021430  0.116388  0\n",
      "2125 -0.222766  0.412373 -0.389669  0.013848  0.017464  0.014911  1\n",
      "1656 -0.222004  0.103720  0.005680  0.005797  0.004121  0.003718  1\n",
      "1593  0.262310  0.098346 -0.038579  0.066691  0.283348  0.033326  0\n"
     ]
    }
   ],
   "source": [
    "#features = irisDf.values[:,:4]    # till 3rd column means exclusive of 4th coln whch is target\n",
    "#target = irisDf.values[:,4]       # these are the target values or labels\n",
    "  \n",
    "#slicing data\n",
    "#features_train, features_test, target_train, target_test = train_test_split(features,\n",
    "#                                                                   target, test_size = 0.33, random_state = 10)\n",
    "\n",
    "    \n",
    "# this will give dataframes as output of splitting \n",
    "traindf,testdf = train_test_split(df,test_size=0.33)\n",
    "print(traindf.head())"
   ]
  },
  {
   "cell_type": "code",
   "execution_count": 85,
   "metadata": {
    "collapsed": true
   },
   "outputs": [],
   "source": [
    "#seperate data by class\n",
    "\n",
    "df0 = traindf.loc[traindf['7'] == 0]\n",
    "df1 = traindf.loc[traindf['7'] == 1]"
   ]
  },
  {
   "cell_type": "code",
   "execution_count": 86,
   "metadata": {
    "collapsed": true
   },
   "outputs": [],
   "source": [
    "# defining a function to predict a class label\n",
    "\n",
    "def predictClassLabel(datapt):\n",
    "    '''predicts the class label for given data point'''\n",
    "    pr_0 = probOfClass(datapt, df0)\n",
    "    pr_1 = probOfClass(datapt, df1)\n",
    "    \n",
    "    m = max(pr_0, pr_1)\n",
    "    \n",
    "    if(m == pr_0):\n",
    "        return 0\n",
    "    else:\n",
    "        return 1\n",
    "        "
   ]
  },
  {
   "cell_type": "code",
   "execution_count": 87,
   "metadata": {},
   "outputs": [
    {
     "name": "stderr",
     "output_type": "stream",
     "text": [
      "C:\\ProgramData\\Anaconda3\\lib\\site-packages\\ipykernel_launcher.py:9: DeprecationWarning: \n",
      ".ix is deprecated. Please use\n",
      ".loc for label based indexing or\n",
      ".iloc for positional indexing\n",
      "\n",
      "See the documentation here:\n",
      "http://pandas.pydata.org/pandas-docs/stable/indexing.html#ix-indexer-is-deprecated\n",
      "  if __name__ == '__main__':\n"
     ]
    },
    {
     "name": "stdout",
     "output_type": "stream",
     "text": [
      "81.31720430107528\n"
     ]
    }
   ],
   "source": [
    "#lets find accuracy : predict class labels for all test instances and then compare both of them\n",
    "\n",
    "import time\n",
    "\n",
    "y_pred = []\n",
    "\n",
    "def findAccuracy(testdf):\n",
    "    '''find accurcay of an algorithm'''\n",
    "    count =0\n",
    "    total =0\n",
    "\n",
    "    for i in range(0,len(testdf)):\n",
    "        prediction = predictClassLabel(testdf.iloc[i:i+1,0:6])       # taking row by row without label \n",
    "\n",
    "        if(prediction == testdf.iloc[i]['7']):            # comparing predicted label with actual label\n",
    "            count += 1\n",
    "        \n",
    "        y_pred.append(prediction)\n",
    "        total += 1\n",
    "\n",
    "    return count/total\n",
    "\n",
    "\n",
    "print(100 * findAccuracy(testdf))\n",
    "\n",
    "\n",
    "# finding training time\n",
    "\n",
    "t0 = time.time()\n",
    "predictClassLabel(testdf.iloc[0:1,0:6])\n",
    "tm = time.time()-t0\n"
   ]
  },
  {
   "cell_type": "code",
   "execution_count": 88,
   "metadata": {
    "collapsed": true
   },
   "outputs": [],
   "source": [
    "y_pred = np.array(y_pred).reshape(-1,1)\n",
    "y_test = np.array(testdf.iloc[:,6:])\n"
   ]
  },
  {
   "cell_type": "code",
   "execution_count": 89,
   "metadata": {},
   "outputs": [
    {
     "name": "stdout",
     "output_type": "stream",
     "text": [
      "Accuracy : 81.3172043011 %\n",
      "Precision : 0.81170218457\n",
      "Execution time : 0.005013704299926758 seconds \n",
      "Recall : 0.813172043011\n",
      "F1_score : 0.812421690539\n",
      "Roc_Auc_score : 0.696805555556\n"
     ]
    }
   ],
   "source": [
    "print(\"Accuracy : \" + str(100 * accuracy_score( y_pred, y_test ) ) + \" %\")\n",
    "print('Precision : ' + str(precision_score(y_test, y_pred, average= 'weighted')))\n",
    "print('Execution time : ' + str( tm ) + ' seconds ')\n",
    "print('Recall : ' + str(recall_score(y_test, y_pred, average = 'weighted')))\n",
    "print('F1_score : ' + str(f1_score(y_test, y_pred, average = 'weighted')))\n",
    "print('Roc_Auc_score : ' + str(roc_auc_score( y_test, y_pred )))"
   ]
  },
  {
   "cell_type": "code",
   "execution_count": null,
   "metadata": {
    "collapsed": true
   },
   "outputs": [],
   "source": []
  }
 ],
 "metadata": {
  "kernelspec": {
   "display_name": "Python 3",
   "language": "python",
   "name": "python3"
  },
  "language_info": {
   "codemirror_mode": {
    "name": "ipython",
    "version": 3
   },
   "file_extension": ".py",
   "mimetype": "text/x-python",
   "name": "python",
   "nbconvert_exporter": "python",
   "pygments_lexer": "ipython3",
   "version": "3.6.3"
  }
 },
 "nbformat": 4,
 "nbformat_minor": 2
}
